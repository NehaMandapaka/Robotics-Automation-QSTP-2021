{
  "nbformat": 4,
  "nbformat_minor": 0,
  "metadata": {
    "colab": {
      "name": "ROS_Assignment - I.ipynb",
      "provenance": [],
      "authorship_tag": "ABX9TyOtiOFzZO53NwRyYst3Cnp3",
      "include_colab_link": true
    },
    "kernelspec": {
      "name": "python3",
      "display_name": "Python 3"
    },
    "language_info": {
      "name": "python"
    }
  },
  "cells": [
    {
      "cell_type": "markdown",
      "metadata": {
        "id": "view-in-github",
        "colab_type": "text"
      },
      "source": [
        "<a href=\"https://colab.research.google.com/github/NehaMandapaka/Robotics-Automation-QSTP-2021/blob/main/WEEK-1/ROS_Assignment_I.ipynb\" target=\"_parent\"><img src=\"https://colab.research.google.com/assets/colab-badge.svg\" alt=\"Open In Colab\"/></a>"
      ]
    },
    {
      "cell_type": "code",
      "metadata": {
        "colab": {
          "base_uri": "https://localhost:8080/",
          "height": 519
        },
        "id": "t_g9itfh91kz",
        "outputId": "e732648c-27b6-4880-965f-382d6f02220b"
      },
      "source": [
        "import numpy as np\n",
        "import matplotlib.pyplot as plt\n",
        "import math\n",
        "\n",
        "class Unicycle:\n",
        "    def __init__(self, x: float, y: float, theta: float, dt: float):\n",
        "        self.x = x\n",
        "        self.y = y\n",
        "        self.theta = theta\n",
        "        self.dt = dt\n",
        "\n",
        "        # Store the points of the trajectory to plot\n",
        "        self.x_points = [self.x]\n",
        "        self.y_points = [self.y]\n",
        "        self.theta_points = [self.theta]\n",
        "        #print(self.x_points)\n",
        "        #print(self.y_points)\n",
        "\n",
        "    def step(self, v: float, w: float, dt:float, n: int, theta:float):\n",
        "\n",
        "        self.k = 1\n",
        "\n",
        "        for self.k in range(n+1):\n",
        "\n",
        "         t = dt*self.k\n",
        "         self.theta_f = w*t + self.theta\n",
        "\n",
        "         c = math.cos(self.theta_f)\n",
        "         s = math.sin(self.theta_f)\n",
        "\n",
        "         self.x_f = (v*c)*t \n",
        "         self.y_f = (v*s)*t\n",
        "         \n",
        "\n",
        "         self.x_points.append(self.x_f)\n",
        "         self.y_points.append(self.y_f)\n",
        "         self.theta_points.append(self.theta_f)\n",
        "        print('set of x-coordinates : ', self.x_points)\n",
        "        print('set of y-coordinates : ',self.y_points)\n",
        "        print('set of theta values : ', self.theta_points)\n",
        "        \n",
        "\n",
        "        #return x, y, theta\n",
        "\n",
        "    def plot(self, v: float, w: float):\n",
        "        \"\"\"Function that plots the intermeditate trajectory of the Robot\"\"\"\n",
        "        plt.title(f\"Unicycle Model: {v}, {w}\")\n",
        "        plt.xlabel(\"X-Coordinates\")\n",
        "        plt.ylabel(\"Y-Coordinates\")\n",
        "        plt.plot(self.x_points, self.y_points, color=\"red\", alpha=0.75)\n",
        "        plt.grid()\n",
        "\n",
        "        # If you want to view the plot uncomment plt.show() and comment out plt.savefig()\n",
        "        plt.show()\n",
        "        # If you want to save the file, uncomment plt.savefig() and comment out plt.show()\n",
        "        plt.savefig(f\"Unicycle_{v}_{w}.png\")\n",
        "   \n",
        "\n",
        "if __name__ == \"__main__\":\n",
        "    print(\"Unicycle Model Assignment\")\n",
        "\n",
        "x_i = int(input('Initial x coordinate : ')) \n",
        "y_i = int(input('Initial y coordinate : ')) \n",
        "theta = float(input('Initial theta value : '))\n",
        "dt = float(input('Value of dt : '))\n",
        "v = float(input('Value of v : '))\n",
        "w = float(input('Value of w : '))\n",
        "n = int(input('Timesteps : '))\n",
        "\n",
        "unicycle_1 = Unicycle(x_i,y_i,theta,dt)\n",
        "unicycle_1.step(v, w, dt, n,theta)\n",
        "unicycle_1.plot(v,w)\n"
      ],
      "execution_count": 25,
      "outputs": [
        {
          "output_type": "stream",
          "text": [
            "Unicycle Model Assignment\n",
            "Initial x coordinate : 0\n",
            "Initial y coordinate : 0\n",
            "Initial theta value : 0.77\n",
            "Value of dt : 0.05\n",
            "Value of v : 5\n",
            "Value of w : 4\n",
            "Timesteps : 50\n",
            "set of x-coordinates :  [0, 0.0, 0.1413248827900886, 0.19507584215411514, 0.14958729074817967, 0.0007963267107332635, -0.24736101826138626, -0.5830271300471284, -0.9869738507464678, -1.4336021145730857, -1.8923410369039537, -2.3293755882214304, -2.7096136874341807, -2.9987896154042577, -3.1655918098962696, -3.1836998457528054, -3.0336179498628204, -2.7042006907811675, -2.1937801800430052, -1.5108226234161783, -0.6740645237224485, 0.2878957806192301, 1.3375484523357801, 2.4299340466813804, 3.5145600122979817, 4.537690448852134, 5.444906801733731, 6.183820726156725, 6.706809304961444, 6.973637795330014, 6.9538364733556834, 6.628706009584402, 5.992839907060753, 5.055072332342061, 3.8387843583161474, 2.3815301602358665, 0.73397580867382, -1.0418244139525203, -2.8747572645370782, -4.687498265258261, -6.3997638695916725, -7.931831658010675, -9.208175485067576, -10.161052442215384, -10.73387567322644, -10.884211783419833, -10.586253785388049, -9.832639846302305, -8.635513838094825, -7.02675482958152, -5.057337921223356, -2.7958267180432923]\n",
            "set of y-coordinates :  [0, 0.0, 0.20622142833461254, 0.4603752988680679, 0.7349310460489608, 0.9999996829318347, 1.2252805909850568, 1.3820562092870932, 1.4451237379348143, 1.3945554765198755, 1.2171874958482236, 0.9077496180104208, 0.4695675296156497, -0.08521057765081272, -0.7358861957651203, -1.453979123699362, -2.2044641376693104, -2.947422369457534, -3.6400313902012558, -4.238798768586905, -4.7019290740991435, -4.991704720784438, -5.0767572462797705, -4.9341078756730345, -4.5508645244564265, -3.925476453934749, -3.0684670310162607, -2.002588631435452, -0.7623706099284048, 0.6069397824700156, 2.051013969193824, 3.508597531564376, 4.914099088168661, 6.200503504941337, 7.3024814036289944, 8.159553547583773, 8.719161628980254, 8.939496735862287, 8.791943509258422, 8.263011558336391, 7.3556456150000225, 6.089831405628535, 4.502444251315116, 2.6463207036466305, 0.5885686295731477, -1.59183348804606, -3.807063276510804, -5.9639914195870745, -7.968086392106501, -9.727523660467387, -11.157321952447022, -12.183322739001675]\n",
            "set of theta values :  [0.77, 0.77, 0.97, 1.17, 1.37, 1.57, 1.77, 1.9700000000000002, 2.17, 2.37, 2.5700000000000003, 2.77, 2.97, 3.1700000000000004, 3.37, 3.5700000000000003, 3.77, 3.97, 4.17, 4.37, 4.57, 4.77, 4.970000000000001, 5.17, 5.370000000000001, 5.57, 5.77, 5.970000000000001, 6.17, 6.370000000000001, 6.57, 6.77, 6.970000000000001, 7.17, 7.370000000000001, 7.57, 7.77, 7.970000000000001, 8.17, 8.370000000000001, 8.57, 8.77, 8.97, 9.17, 9.37, 9.57, 9.77, 9.97, 10.17, 10.370000000000001, 10.57, 10.77]\n"
          ],
          "name": "stdout"
        },
        {
          "output_type": "display_data",
          "data": {
            "image/png": "[encoded data removed]",
            "text/plain": [
              "<Figure size 432x288 with 1 Axes>"
            ]
          },
          "metadata": {
            "tags": [],
            "needs_background": "light"
          }
        },
        {
          "output_type": "display_data",
          "data": {
            "text/plain": [
              "<Figure size 432x288 with 0 Axes>"
            ]
          },
          "metadata": {
            "tags": []
          }
        }
      ]
    }
  ]
}