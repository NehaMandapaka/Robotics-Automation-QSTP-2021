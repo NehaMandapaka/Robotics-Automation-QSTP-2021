{
  "nbformat": 4,
  "nbformat_minor": 0,
  "metadata": {
    "colab": {
      "name": "ROS_Assignment - I_(i).ipynb",
      "provenance": [],
      "authorship_tag": "ABX9TyOtiOFzZO53NwRyYst3Cnp3",
      "include_colab_link": true
    },
    "kernelspec": {
      "name": "python3",
      "display_name": "Python 3"
    },
    "language_info": {
      "name": "python"
    }
  },
  "cells": [
    {
      "cell_type": "markdown",
      "metadata": {
        "id": "view-in-github",
        "colab_type": "text"
      },
      "source": [
        "<a href=\"https://colab.research.google.com/github/NehaMandapaka/Robotics-Automation-QSTP-2021/blob/main/WEEK-1/ROS_Assignment_I_(i).ipynb\" target=\"_parent\"><img src=\"https://colab.research.google.com/assets/colab-badge.svg\" alt=\"Open In Colab\"/></a>"
      ]
    },
    {
      "cell_type": "code",
      "metadata": {
        "colab": {
          "base_uri": "https://localhost:8080/",
          "height": 519
        },
        "id": "t_g9itfh91kz",
        "outputId": "791d2e60-a44e-4b8e-b903-cee2712afe34"
      },
      "source": [
        "import numpy as np\n",
        "import matplotlib.pyplot as plt\n",
        "import math\n",
        "\n",
        "class Unicycle:\n",
        "    def __init__(self, x: float, y: float, theta: float, dt: float):\n",
        "        self.x = x\n",
        "        self.y = y\n",
        "        self.theta = theta\n",
        "        self.dt = dt\n",
        "\n",
        "        # Store the points of the trajectory to plot\n",
        "        self.x_points = [self.x]\n",
        "        self.y_points = [self.y]\n",
        "        self.theta_points = [self.theta]\n",
        "        #print(self.x_points)\n",
        "        #print(self.y_points)\n",
        "\n",
        "    def step(self, v: float, w: float, dt:float, n: int, theta:float):\n",
        "\n",
        "        self.k = 1\n",
        "\n",
        "        for self.k in range(n+1):\n",
        "\n",
        "         t = dt*self.k\n",
        "         self.theta_f = w*t + self.theta\n",
        "\n",
        "         c = math.cos(self.theta_f)\n",
        "         s = math.sin(self.theta_f)\n",
        "\n",
        "         self.x_f = (v*c)*t \n",
        "         self.y_f = (v*s)*t\n",
        "         \n",
        "\n",
        "         self.x_points.append(self.x_f)\n",
        "         self.y_points.append(self.y_f)\n",
        "         self.theta_points.append(self.theta_f)\n",
        "        print('set of x-coordinates : ', self.x_points)\n",
        "        print('set of y-coordinates : ',self.y_points)\n",
        "        print('set of theta values : ', self.theta_points)\n",
        "        \n",
        "\n",
        "        #return x, y, theta\n",
        "\n",
        "    def plot(self, v: float, w: float):\n",
        "        \"\"\"Function that plots the intermeditate trajectory of the Robot\"\"\"\n",
        "        plt.title(f\"Unicycle Model: {v}, {w}\")\n",
        "        plt.xlabel(\"X-Coordinates\")\n",
        "        plt.ylabel(\"Y-Coordinates\")\n",
        "        plt.plot(self.x_points, self.y_points, color=\"red\", alpha=0.75)\n",
        "        plt.grid()\n",
        "\n",
        "        # If you want to view the plot uncomment plt.show() and comment out plt.savefig()\n",
        "        plt.show()\n",
        "        # If you want to save the file, uncomment plt.savefig() and comment out plt.show()\n",
        "        plt.savefig(f\"Unicycle_{v}_{w}.png\")\n",
        "   \n",
        "\n",
        "if __name__ == \"__main__\":\n",
        "    print(\"Unicycle Model Assignment\")\n",
        "\n",
        "x_i = int(input('Initial x coordinate : ')) \n",
        "y_i = int(input('Initial y coordinate : ')) \n",
        "theta = float(input('Initial theta value : '))\n",
        "dt = float(input('Value of dt : '))\n",
        "v = float(input('Value of v : '))\n",
        "w = float(input('Value of w : '))\n",
        "n = int(input('Timesteps : '))\n",
        "\n",
        "unicycle_1 = Unicycle(x_i,y_i,theta,dt)\n",
        "unicycle_1.step(v, w, dt, n,theta)\n",
        "unicycle_1.plot(v,w)\n"
      ],
      "execution_count": null,
      "outputs": [
        {
          "output_type": "stream",
          "text": [
            "Unicycle Model Assignment\n",
            "Initial x coordinate : 0\n",
            "Initial y coordinate : 0\n",
            "Initial theta value : 0\n",
            "Value of dt : 0.1\n",
            "Value of v : 1\n",
            "Value of w : 0.5\n",
            "Timesteps : 25\n",
            "set of x-coordinates :  [0, 0.0, 0.09987502603949663, 0.19900083305560518, 0.2966313233808127, 0.39202663113649666, 0.48445621085532237, 0.5732018934753637, 0.6575608989931653, 0.7368487952023082, 0.8104023921174092, 0.8775825618903728, 0.9377769742654564, 0.990402737891614, 1.0349089381137726, 1.0707790621982838, 1.0975333033107313, 1.1147307349554647, 1.1219713480044697, 1.118897942887196, 1.1051978699813787, 1.0806046117362795, 1.0448992005726268, 0.9979114671362702, 0.9395211140335616, 0.8696586107440163, 0.7883059059881716]\n",
            "set of y-coordinates :  [0, 0.0, 0.004997916927067834, 0.01996668332936563, 0.04483143974207978, 0.0794677323180245, 0.12370197962726147, 0.1773121239968038, 0.240028465218816, 0.31153467384692046, 0.3914689807001072, 0.479425538604203, 0.5749559518237252, 0.6775709680740427, 0.7867423274568515, 0.9019047621327677, 1.0224581400350012, 1.1477697454392366, 1.2771766887384977, 1.4099884373294702, 1.5454894590998103, 1.682941969615793, 1.8215887737474357, 1.9606561921351582, 2.0993570625991986, 2.2368938063213437, 2.3724615483889657]\n",
            "set of theta values :  [0.0, 0.0, 0.05, 0.1, 0.15000000000000002, 0.2, 0.25, 0.30000000000000004, 0.35000000000000003, 0.4, 0.45, 0.5, 0.55, 0.6000000000000001, 0.65, 0.7000000000000001, 0.75, 0.8, 0.8500000000000001, 0.9, 0.9500000000000001, 1.0, 1.05, 1.1, 1.1500000000000001, 1.2000000000000002, 1.25]\n"
          ],
          "name": "stdout"
        },
        {
          "output_type": "display_data",
          "data": {
            "image/png": "[encoded data removed]",
            "text/plain": [
              "<Figure size 432x288 with 1 Axes>"
            ]
          },
          "metadata": {
            "tags": [],
            "needs_background": "light"
          }
        },
        {
          "output_type": "display_data",
          "data": {
            "text/plain": [
              "<Figure size 432x288 with 0 Axes>"
            ]
          },
          "metadata": {
            "tags": []
          }
        }
      ]
    }
  ]
}